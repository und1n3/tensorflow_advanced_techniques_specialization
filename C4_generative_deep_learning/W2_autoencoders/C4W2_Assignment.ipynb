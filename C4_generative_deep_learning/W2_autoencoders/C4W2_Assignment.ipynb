{
  "cells": [
    {
      "cell_type": "markdown",
      "metadata": {
        "id": "L6S2HVAkSt0p"
      },
      "source": [
        "# Week 2 Assignment: CIFAR-10 Autoencoder\n",
        "\n",
        "For this week, you will create a convolutional autoencoder for the [CIFAR10](https://www.tensorflow.org/datasets/catalog/cifar10) dataset. You are free to choose the architecture of your autoencoder provided that the output image has the same dimensions as the input image.\n",
        "\n",
        "After training, your model should meet loss and accuracy requirements when evaluated with the test dataset. You will then download the model and upload it in the classroom for grading.\n",
        "\n",
        "Let's begin!"
      ]
    },
    {
      "cell_type": "markdown",
      "metadata": {
        "id": "2Zeht_ahw5mN"
      },
      "source": [
        "***Important:*** *This colab notebook has read-only access so you won't be able to save your changes. If you want to save your work periodically, please click `File -> Save a Copy in Drive` to create a copy in your account, then work from there.*  "
      ]
    },
    {
      "cell_type": "markdown",
      "metadata": {
        "id": "g1mzy2J8_nc1"
      },
      "source": [
        "## Imports"
      ]
    },
    {
      "cell_type": "code",
      "execution_count": 1,
      "metadata": {
        "id": "3EXwoz-KHtWO"
      },
      "outputs": [
        {
          "name": "stderr",
          "output_type": "stream",
          "text": [
            "2025-02-10 12:54:37.081962: I tensorflow/core/util/port.cc:153] oneDNN custom operations are on. You may see slightly different numerical results due to floating-point round-off errors from different computation orders. To turn them off, set the environment variable `TF_ENABLE_ONEDNN_OPTS=0`.\n",
            "2025-02-10 12:54:37.114214: E external/local_xla/xla/stream_executor/cuda/cuda_fft.cc:477] Unable to register cuFFT factory: Attempting to register factory for plugin cuFFT when one has already been registered\n",
            "WARNING: All log messages before absl::InitializeLog() is called are written to STDERR\n",
            "E0000 00:00:1739188477.137559   30576 cuda_dnn.cc:8310] Unable to register cuDNN factory: Attempting to register factory for plugin cuDNN when one has already been registered\n",
            "E0000 00:00:1739188477.145046   30576 cuda_blas.cc:1418] Unable to register cuBLAS factory: Attempting to register factory for plugin cuBLAS when one has already been registered\n",
            "2025-02-10 12:54:37.179356: I tensorflow/core/platform/cpu_feature_guard.cc:210] This TensorFlow binary is optimized to use available CPU instructions in performance-critical operations.\n",
            "To enable the following instructions: AVX2 AVX_VNNI FMA, in other operations, rebuild TensorFlow with the appropriate compiler flags.\n",
            "/home/mcc/.local/lib/python3.12/site-packages/tqdm/auto.py:21: TqdmWarning: IProgress not found. Please update jupyter and ipywidgets. See https://ipywidgets.readthedocs.io/en/stable/user_install.html\n",
            "  from .autonotebook import tqdm as notebook_tqdm\n"
          ]
        }
      ],
      "source": [
        "import tensorflow as tf\n",
        "import tensorflow_datasets as tfds\n",
        "\n",
        "from keras.models import Sequential"
      ]
    },
    {
      "cell_type": "markdown",
      "metadata": {
        "id": "n2Gs6Lyc_pd0"
      },
      "source": [
        "## Load and prepare the dataset\n",
        "\n",
        "The [CIFAR 10](https://www.tensorflow.org/datasets/catalog/cifar10) dataset already has train and test splits and you can use those in this exercise. Here are the general steps:\n",
        "\n",
        "* Load the train/test split from TFDS. Set `as_supervised` to `True` so it will be convenient to use the preprocessing function we provided.\n",
        "* Normalize the pixel values to the range [0,1], then return `image, image` pairs for training instead of `image, label`. This is because you will check if the output image is successfully regenerated after going through your autoencoder.\n",
        "* Shuffle and batch the train set. Batch the test set (no need to shuffle).\n"
      ]
    },
    {
      "cell_type": "code",
      "execution_count": 3,
      "metadata": {
        "id": "t9F7YsCNIKSA"
      },
      "outputs": [
        {
          "name": "stderr",
          "output_type": "stream",
          "text": [
            "2025-02-10 12:57:28.851457: W external/local_tsl/tsl/platform/cloud/google_auth_provider.cc:184] All attempts to get a Google authentication bearer token failed, returning an empty token. Retrieving token from files failed with \"NOT_FOUND: Could not locate the credentials file.\". Retrieving token from GCE failed with \"FAILED_PRECONDITION: Error executing an HTTP request: libcurl code 6 meaning 'Couldn't resolve host name', error details: Could not resolve host: metadata.google.internal\".\n"
          ]
        },
        {
          "name": "stdout",
          "output_type": "stream",
          "text": [
            "\u001b[1mDownloading and preparing dataset 162.17 MiB (download: 162.17 MiB, generated: 132.40 MiB, total: 294.58 MiB) to /home/mcc/tensorflow_datasets/cifar10/3.0.2...\u001b[0m\n"
          ]
        },
        {
          "name": "stderr",
          "output_type": "stream",
          "text": [
            "Dl Completed...: 0 url [00:00, ? url/s]\n",
            "Dl Completed...:   0%|          | 0/1 [00:00<?, ? url/s]\n",
            "Dl Completed...:   0%|          | 0/1 [00:00<?, ? url/s]\n",
            "Dl Completed...:   0%|          | 0/1 [00:01<?, ? url/s]\n",
            "Dl Completed...:   0%|          | 0/1 [00:01<?, ? url/s]\n",
            "Dl Completed...:   0%|          | 0/1 [00:01<?, ? url/s]\n",
            "Dl Completed...:   0%|          | 0/1 [00:01<?, ? url/s]\n",
            "Dl Completed...:   0%|          | 0/1 [00:01<?, ? url/s]\n",
            "Dl Completed...:   0%|          | 0/1 [00:01<?, ? url/s]\n",
            "Dl Completed...:   0%|          | 0/1 [00:01<?, ? url/s]\n",
            "Dl Completed...:   0%|          | 0/1 [00:01<?, ? url/s]\n",
            "Dl Completed...:   0%|          | 0/1 [00:01<?, ? url/s]\n",
            "Dl Completed...:   0%|          | 0/1 [00:01<?, ? url/s]\n",
            "Dl Completed...:   0%|          | 0/1 [00:01<?, ? url/s]\n",
            "Dl Completed...:   0%|          | 0/1 [00:01<?, ? url/s]\n",
            "Dl Completed...:   0%|          | 0/1 [00:01<?, ? url/s]\n",
            "Dl Completed...:   0%|          | 0/1 [00:01<?, ? url/s]\n",
            "Dl Completed...:   0%|          | 0/1 [00:01<?, ? url/s]\n",
            "Dl Completed...:   0%|          | 0/1 [00:01<?, ? url/s]\n",
            "Dl Completed...:   0%|          | 0/1 [00:01<?, ? url/s]\n",
            "Dl Completed...:   0%|          | 0/1 [00:01<?, ? url/s]\n",
            "Dl Completed...:   0%|          | 0/1 [00:02<?, ? url/s]\n",
            "Dl Completed...:   0%|          | 0/1 [00:02<?, ? url/s]\n",
            "Dl Completed...:   0%|          | 0/1 [00:02<?, ? url/s]\n",
            "Dl Completed...:   0%|          | 0/1 [00:02<?, ? url/s]\n",
            "Dl Completed...:   0%|          | 0/1 [00:02<?, ? url/s]\n",
            "Dl Completed...:   0%|          | 0/1 [00:02<?, ? url/s]\n",
            "Dl Completed...:   0%|          | 0/1 [00:02<?, ? url/s]\n",
            "Dl Completed...:   0%|          | 0/1 [00:02<?, ? url/s]\n",
            "Dl Completed...:   0%|          | 0/1 [00:02<?, ? url/s]\n",
            "Dl Completed...:   0%|          | 0/1 [00:02<?, ? url/s]\n",
            "Dl Completed...:   0%|          | 0/1 [00:02<?, ? url/s]\n",
            "Dl Completed...:   0%|          | 0/1 [00:02<?, ? url/s]\n",
            "Dl Completed...:   0%|          | 0/1 [00:02<?, ? url/s]\n",
            "Dl Completed...:   0%|          | 0/1 [00:02<?, ? url/s]\n",
            "Dl Completed...:   0%|          | 0/1 [00:02<?, ? url/s]\n",
            "Dl Completed...:   0%|          | 0/1 [00:02<?, ? url/s]\n",
            "Dl Completed...:   0%|          | 0/1 [00:02<?, ? url/s]\n",
            "Dl Completed...:   0%|          | 0/1 [00:02<?, ? url/s]\n",
            "Dl Completed...:   0%|          | 0/1 [00:02<?, ? url/s]\n",
            "Dl Completed...:   0%|          | 0/1 [00:02<?, ? url/s]\n",
            "Dl Completed...:   0%|          | 0/1 [00:02<?, ? url/s]\n",
            "Dl Completed...:   0%|          | 0/1 [00:02<?, ? url/s]\n",
            "Dl Completed...:   0%|          | 0/1 [00:02<?, ? url/s]\n",
            "Dl Completed...:   0%|          | 0/1 [00:02<?, ? url/s]\n",
            "Dl Completed...:   0%|          | 0/1 [00:02<?, ? url/s]\n",
            "Dl Completed...:   0%|          | 0/1 [00:02<?, ? url/s]\n",
            "Dl Completed...:   0%|          | 0/1 [00:03<?, ? url/s]\n",
            "Dl Completed...:   0%|          | 0/1 [00:03<?, ? url/s]\n",
            "Dl Completed...:   0%|          | 0/1 [00:03<?, ? url/s]\n",
            "Dl Completed...:   0%|          | 0/1 [00:03<?, ? url/s]\n",
            "Dl Completed...:   0%|          | 0/1 [00:03<?, ? url/s]\n",
            "Dl Completed...:   0%|          | 0/1 [00:03<?, ? url/s]\n",
            "Dl Completed...:   0%|          | 0/1 [00:03<?, ? url/s]\n",
            "Dl Completed...:   0%|          | 0/1 [00:03<?, ? url/s]\n",
            "Dl Completed...:   0%|          | 0/1 [00:03<?, ? url/s]\n",
            "Dl Completed...:   0%|          | 0/1 [00:03<?, ? url/s]\n",
            "Dl Completed...:   0%|          | 0/1 [00:03<?, ? url/s]\n",
            "Dl Completed...:   0%|          | 0/1 [00:03<?, ? url/s]\n",
            "Dl Completed...:   0%|          | 0/1 [00:03<?, ? url/s]\n",
            "Dl Completed...:   0%|          | 0/1 [00:03<?, ? url/s]\n",
            "Dl Completed...:   0%|          | 0/1 [00:03<?, ? url/s]\n",
            "Dl Completed...:   0%|          | 0/1 [00:03<?, ? url/s]\n",
            "Dl Completed...:   0%|          | 0/1 [00:03<?, ? url/s]\n",
            "Dl Completed...:   0%|          | 0/1 [00:03<?, ? url/s]\n",
            "Dl Completed...:   0%|          | 0/1 [00:03<?, ? url/s]\n",
            "Dl Completed...:   0%|          | 0/1 [00:03<?, ? url/s]\n",
            "Dl Completed...:   0%|          | 0/1 [00:03<?, ? url/s]\n",
            "Dl Completed...:   0%|          | 0/1 [00:03<?, ? url/s]\n",
            "Dl Completed...:   0%|          | 0/1 [00:03<?, ? url/s]\n",
            "Dl Completed...:   0%|          | 0/1 [00:03<?, ? url/s]\n",
            "Dl Completed...:   0%|          | 0/1 [00:03<?, ? url/s]\n",
            "Dl Completed...:   0%|          | 0/1 [00:03<?, ? url/s]\n",
            "Dl Completed...:   0%|          | 0/1 [00:03<?, ? url/s]\n",
            "Dl Completed...:   0%|          | 0/1 [00:03<?, ? url/s]\n",
            "Dl Completed...:   0%|          | 0/1 [00:04<?, ? url/s]\n",
            "Dl Completed...:   0%|          | 0/1 [00:04<?, ? url/s]\n",
            "Dl Completed...:   0%|          | 0/1 [00:04<?, ? url/s]\n",
            "Dl Completed...:   0%|          | 0/1 [00:04<?, ? url/s]\n",
            "Dl Completed...:   0%|          | 0/1 [00:04<?, ? url/s]\n",
            "Dl Completed...:   0%|          | 0/1 [00:04<?, ? url/s]\n",
            "Dl Completed...:   0%|          | 0/1 [00:04<?, ? url/s]\n",
            "Dl Completed...:   0%|          | 0/1 [00:04<?, ? url/s]\n",
            "Dl Completed...:   0%|          | 0/1 [00:04<?, ? url/s]\n",
            "Dl Completed...:   0%|          | 0/1 [00:04<?, ? url/s]\n",
            "Dl Completed...:   0%|          | 0/1 [00:04<?, ? url/s]\n",
            "Dl Completed...:   0%|          | 0/1 [00:04<?, ? url/s]\n",
            "Dl Completed...:   0%|          | 0/1 [00:04<?, ? url/s]\n",
            "Dl Completed...:   0%|          | 0/1 [00:04<?, ? url/s]\n",
            "Dl Completed...:   0%|          | 0/1 [00:04<?, ? url/s]\n",
            "Dl Completed...:   0%|          | 0/1 [00:04<?, ? url/s]\n",
            "Dl Completed...:   0%|          | 0/1 [00:04<?, ? url/s]\n",
            "Dl Completed...:   0%|          | 0/1 [00:04<?, ? url/s]\n",
            "Dl Completed...:   0%|          | 0/1 [00:04<?, ? url/s]\n",
            "Dl Completed...:   0%|          | 0/1 [00:04<?, ? url/s]\n",
            "Dl Completed...:   0%|          | 0/1 [00:04<?, ? url/s]\n",
            "Dl Completed...:   0%|          | 0/1 [00:04<?, ? url/s]\n",
            "Dl Completed...:   0%|          | 0/1 [00:04<?, ? url/s]\n",
            "Dl Completed...:   0%|          | 0/1 [00:04<?, ? url/s]\n",
            "Dl Completed...:   0%|          | 0/1 [00:04<?, ? url/s]\n",
            "Dl Completed...:   0%|          | 0/1 [00:04<?, ? url/s]\n",
            "Dl Completed...:   0%|          | 0/1 [00:04<?, ? url/s]\n",
            "Dl Completed...:   0%|          | 0/1 [00:05<?, ? url/s]\n",
            "Dl Completed...:   0%|          | 0/1 [00:05<?, ? url/s]\n",
            "Dl Completed...:   0%|          | 0/1 [00:05<?, ? url/s]\n",
            "Dl Completed...:   0%|          | 0/1 [00:05<?, ? url/s]\n",
            "Dl Completed...:   0%|          | 0/1 [00:05<?, ? url/s]\n",
            "Dl Completed...:   0%|          | 0/1 [00:05<?, ? url/s]\n",
            "Dl Completed...:   0%|          | 0/1 [00:05<?, ? url/s]\n",
            "Dl Completed...:   0%|          | 0/1 [00:05<?, ? url/s]\n",
            "Dl Completed...:   0%|          | 0/1 [00:05<?, ? url/s]\n",
            "Dl Completed...:   0%|          | 0/1 [00:05<?, ? url/s]\n",
            "Dl Completed...:   0%|          | 0/1 [00:05<?, ? url/s]\n",
            "Dl Completed...:   0%|          | 0/1 [00:05<?, ? url/s]\n",
            "Dl Completed...:   0%|          | 0/1 [00:05<?, ? url/s]\n",
            "Dl Completed...:   0%|          | 0/1 [00:05<?, ? url/s]\n",
            "Dl Completed...:   0%|          | 0/1 [00:05<?, ? url/s]\n",
            "Dl Completed...:   0%|          | 0/1 [00:05<?, ? url/s]\n",
            "Dl Completed...:   0%|          | 0/1 [00:05<?, ? url/s]\n",
            "Dl Completed...:   0%|          | 0/1 [00:05<?, ? url/s]\n",
            "Dl Completed...:   0%|          | 0/1 [00:05<?, ? url/s]\n",
            "Dl Completed...:   0%|          | 0/1 [00:05<?, ? url/s]\n",
            "Dl Completed...:   0%|          | 0/1 [00:05<?, ? url/s]\n",
            "Dl Completed...:   0%|          | 0/1 [00:05<?, ? url/s]\n",
            "Dl Completed...:   0%|          | 0/1 [00:05<?, ? url/s]\n",
            "Dl Completed...:   0%|          | 0/1 [00:05<?, ? url/s]\n",
            "Dl Completed...:   0%|          | 0/1 [00:05<?, ? url/s]\n",
            "Dl Completed...:   0%|          | 0/1 [00:05<?, ? url/s]\n",
            "Dl Completed...:   0%|          | 0/1 [00:05<?, ? url/s]\n",
            "Dl Completed...:   0%|          | 0/1 [00:06<?, ? url/s]\n",
            "Dl Completed...:   0%|          | 0/1 [00:06<?, ? url/s]\n",
            "Dl Completed...:   0%|          | 0/1 [00:06<?, ? url/s]\n",
            "Dl Completed...:   0%|          | 0/1 [00:06<?, ? url/s]\n",
            "Dl Completed...:   0%|          | 0/1 [00:06<?, ? url/s]\n",
            "Dl Completed...:   0%|          | 0/1 [00:06<?, ? url/s]\n",
            "Dl Completed...:   0%|          | 0/1 [00:06<?, ? url/s]\n",
            "Dl Completed...:   0%|          | 0/1 [00:06<?, ? url/s]\n",
            "Dl Completed...:   0%|          | 0/1 [00:06<?, ? url/s]\n",
            "Dl Completed...:   0%|          | 0/1 [00:06<?, ? url/s]\n",
            "Dl Completed...:   0%|          | 0/1 [00:06<?, ? url/s]\n",
            "Dl Completed...:   0%|          | 0/1 [00:06<?, ? url/s]\n",
            "Dl Completed...:   0%|          | 0/1 [00:06<?, ? url/s]\n",
            "Dl Completed...:   0%|          | 0/1 [00:06<?, ? url/s]\n",
            "Dl Completed...:   0%|          | 0/1 [00:06<?, ? url/s]\n",
            "Dl Completed...:   0%|          | 0/1 [00:06<?, ? url/s]\n",
            "Dl Completed...:   0%|          | 0/1 [00:06<?, ? url/s]\n",
            "Dl Completed...:   0%|          | 0/1 [00:06<?, ? url/s]\n",
            "Dl Completed...:   0%|          | 0/1 [00:06<?, ? url/s]\n",
            "Dl Completed...:   0%|          | 0/1 [00:06<?, ? url/s]\n",
            "Dl Completed...:   0%|          | 0/1 [00:06<?, ? url/s]\n",
            "Dl Completed...:   0%|          | 0/1 [00:06<?, ? url/s]\n",
            "Dl Completed...:   0%|          | 0/1 [00:06<?, ? url/s]\n",
            "Dl Completed...:   0%|          | 0/1 [00:06<?, ? url/s]\n",
            "Dl Completed...:   0%|          | 0/1 [00:06<?, ? url/s]\n",
            "Dl Completed...:   0%|          | 0/1 [00:06<?, ? url/s]\n",
            "Dl Completed...:   0%|          | 0/1 [00:06<?, ? url/s]\n",
            "Dl Completed...:   0%|          | 0/1 [00:07<?, ? url/s]\n",
            "Dl Completed...:   0%|          | 0/1 [00:07<?, ? url/s]\n",
            "Dl Completed...:   0%|          | 0/1 [00:07<?, ? url/s]\n",
            "Dl Completed...:   0%|          | 0/1 [00:07<?, ? url/s]\n",
            "Dl Completed...:   0%|          | 0/1 [00:07<?, ? url/s]\n",
            "Dl Completed...:   0%|          | 0/1 [00:07<?, ? url/s]\n",
            "Dl Completed...:   0%|          | 0/1 [00:07<?, ? url/s]\n",
            "Dl Completed...:   0%|          | 0/1 [00:07<?, ? url/s]\n",
            "Dl Completed...:   0%|          | 0/1 [00:07<?, ? url/s]\n",
            "Dl Completed...: 100%|██████████| 1/1 [00:07<00:00,  7.26s/ url]\n",
            "Dl Completed...: 100%|██████████| 1/1 [00:07<00:00,  7.26s/ url]\n",
            "Dl Completed...: 100%|██████████| 1/1 [00:07<00:00,  7.26s/ url]\n",
            "Dl Completed...: 100%|██████████| 1/1 [00:07<00:00,  7.26s/ url]\n",
            "Dl Completed...: 100%|██████████| 1/1 [00:07<00:00,  7.26s/ url]\n",
            "Dl Completed...: 100%|██████████| 1/1 [00:07<00:00,  7.26s/ url]\n",
            "Dl Completed...: 100%|██████████| 1/1 [00:07<00:00,  7.26s/ url]\n",
            "Dl Completed...: 100%|██████████| 1/1 [00:08<00:00,  7.26s/ url]\n",
            "Dl Completed...: 100%|██████████| 1/1 [00:08<00:00,  7.26s/ url]\n",
            "\u001b[A\n",
            "Dl Completed...: 100%|██████████| 1/1 [00:08<00:00,  7.26s/ url]\n",
            "Dl Completed...: 100%|██████████| 1/1 [00:08<00:00,  7.26s/ url]\n",
            "Dl Completed...: 100%|██████████| 1/1 [00:08<00:00,  7.26s/ url]\n",
            "Dl Completed...: 100%|██████████| 1/1 [00:08<00:00,  7.26s/ url]\n",
            "Dl Completed...: 100%|██████████| 1/1 [00:08<00:00,  7.26s/ url]\n",
            "Dl Completed...: 100%|██████████| 1/1 [00:08<00:00,  7.26s/ url]\n",
            "Dl Completed...: 100%|██████████| 1/1 [00:08<00:00,  7.26s/ url]\n",
            "Dl Completed...: 100%|██████████| 1/1 [00:08<00:00,  7.26s/ url]\n",
            "Extraction completed...: 100%|██████████| 8/8 [00:08<00:00,  1.03s/ file]\n",
            "Dl Size...: 100%|██████████| 162/162 [00:08<00:00, 19.57 MiB/s]\n",
            "Dl Completed...: 100%|██████████| 1/1 [00:08<00:00,  8.28s/ url]\n",
            "Generating splits...:   0%|          | 0/2 [00:00<?, ? splits/s]I0000 00:00:1739188659.240626   30576 gpu_device.cc:2022] Created device /job:localhost/replica:0/task:0/device:GPU:0 with 21770 MB memory:  -> device: 0, name: NVIDIA GeForce RTX 3090, pci bus id: 0000:01:00.0, compute capability: 8.6\n",
            "                                                                        "
          ]
        },
        {
          "name": "stdout",
          "output_type": "stream",
          "text": [
            "\u001b[1mDataset cifar10 downloaded and prepared to /home/mcc/tensorflow_datasets/cifar10/3.0.2. Subsequent calls will reuse this data.\u001b[0m\n"
          ]
        },
        {
          "name": "stderr",
          "output_type": "stream",
          "text": [
            "\r"
          ]
        }
      ],
      "source": [
        "# preprocessing function\n",
        "def map_image(image, label):\n",
        "  image = tf.cast(image, dtype=tf.float32)\n",
        "  image = image / 255.0\n",
        "\n",
        "  return image, image # dataset label is not used. replaced with the same image input.\n",
        "\n",
        "# parameters\n",
        "BATCH_SIZE = 128\n",
        "SHUFFLE_BUFFER_SIZE = 1024\n",
        "\n",
        "\n",
        "### START CODE HERE (Replace instances of `None` with your code) ###\n",
        "\n",
        "# use tfds.load() to fetch the 'train' split of CIFAR-10\n",
        "train_dataset = tfds.load(\"cifar10\", as_supervised=True, split=\"train\")\n",
        "\n",
        "# preprocess the dataset with the `map_image()` function above\n",
        "train_dataset = train_dataset.map(map_image)\n",
        "\n",
        "# shuffle and batch the dataset\n",
        "train_dataset = train_dataset.shuffle(SHUFFLE_BUFFER_SIZE).batch(BATCH_SIZE)\n",
        "\n",
        "\n",
        "# use tfds.load() to fetch the 'test' split of CIFAR-10\n",
        "test_dataset = tfds.load(\"cifar10\", as_supervised=True, split=\"test\")\n",
        "\n",
        "# preprocess the dataset with the `map_image()` function above\n",
        "test_dataset = test_dataset.map(map_image)\n",
        "\n",
        "# batch the dataset\n",
        "test_dataset = test_dataset.batch(BATCH_SIZE)\n",
        "\n",
        "### END CODE HERE ###"
      ]
    },
    {
      "cell_type": "markdown",
      "metadata": {
        "id": "rPyOgGJs_t98"
      },
      "source": [
        "## Build the Model\n",
        "\n",
        "Create the autoencoder model. As shown in the lectures, you will want to downsample the image in the encoder layers then upsample it in the decoder path. Note that the output layer should be the same dimensions as the original image. Your input images will have the shape `(32, 32, 3)`. If you deviate from this, your model may not be recognized by the grader and may fail.\n",
        "\n",
        "We included a few hints to use the Sequential API below but feel free to remove it and use the Functional API just like in the ungraded labs if you're more comfortable with it. Another reason to use the latter is if you want to visualize the encoder output. As shown in the ungraded labs, it will be easier to indicate multiple outputs with the Functional API. That is not required for this assignment though so you can just stack layers sequentially if you want a simpler solution."
      ]
    },
    {
      "cell_type": "code",
      "execution_count": 16,
      "metadata": {
        "id": "Wr-Bok3lRgA3"
      },
      "outputs": [
        {
          "data": {
            "text/html": [
              "<pre style=\"white-space:pre;overflow-x:auto;line-height:normal;font-family:Menlo,'DejaVu Sans Mono',consolas,'Courier New',monospace\"><span style=\"font-weight: bold\">Model: \"sequential_7\"</span>\n",
              "</pre>\n"
            ],
            "text/plain": [
              "\u001b[1mModel: \"sequential_7\"\u001b[0m\n"
            ]
          },
          "metadata": {},
          "output_type": "display_data"
        },
        {
          "data": {
            "text/html": [
              "<pre style=\"white-space:pre;overflow-x:auto;line-height:normal;font-family:Menlo,'DejaVu Sans Mono',consolas,'Courier New',monospace\">┏━━━━━━━━━━━━━━━━━━━━━━━━━━━━━━━━━┳━━━━━━━━━━━━━━━━━━━━━━━━┳━━━━━━━━━━━━━━━┓\n",
              "┃<span style=\"font-weight: bold\"> Layer (type)                    </span>┃<span style=\"font-weight: bold\"> Output Shape           </span>┃<span style=\"font-weight: bold\">       Param # </span>┃\n",
              "┡━━━━━━━━━━━━━━━━━━━━━━━━━━━━━━━━━╇━━━━━━━━━━━━━━━━━━━━━━━━╇━━━━━━━━━━━━━━━┩\n",
              "│ conv2d_34 (<span style=\"color: #0087ff; text-decoration-color: #0087ff\">Conv2D</span>)              │ (<span style=\"color: #00d7ff; text-decoration-color: #00d7ff\">None</span>, <span style=\"color: #00af00; text-decoration-color: #00af00\">32</span>, <span style=\"color: #00af00; text-decoration-color: #00af00\">32</span>, <span style=\"color: #00af00; text-decoration-color: #00af00\">64</span>)     │         <span style=\"color: #00af00; text-decoration-color: #00af00\">1,792</span> │\n",
              "├─────────────────────────────────┼────────────────────────┼───────────────┤\n",
              "│ max_pooling2d_5 (<span style=\"color: #0087ff; text-decoration-color: #0087ff\">MaxPooling2D</span>)  │ (<span style=\"color: #00d7ff; text-decoration-color: #00d7ff\">None</span>, <span style=\"color: #00af00; text-decoration-color: #00af00\">16</span>, <span style=\"color: #00af00; text-decoration-color: #00af00\">16</span>, <span style=\"color: #00af00; text-decoration-color: #00af00\">64</span>)     │             <span style=\"color: #00af00; text-decoration-color: #00af00\">0</span> │\n",
              "├─────────────────────────────────┼────────────────────────┼───────────────┤\n",
              "│ conv2d_35 (<span style=\"color: #0087ff; text-decoration-color: #0087ff\">Conv2D</span>)              │ (<span style=\"color: #00d7ff; text-decoration-color: #00d7ff\">None</span>, <span style=\"color: #00af00; text-decoration-color: #00af00\">16</span>, <span style=\"color: #00af00; text-decoration-color: #00af00\">16</span>, <span style=\"color: #00af00; text-decoration-color: #00af00\">128</span>)    │        <span style=\"color: #00af00; text-decoration-color: #00af00\">73,856</span> │\n",
              "├─────────────────────────────────┼────────────────────────┼───────────────┤\n",
              "│ max_pooling2d_6 (<span style=\"color: #0087ff; text-decoration-color: #0087ff\">MaxPooling2D</span>)  │ (<span style=\"color: #00d7ff; text-decoration-color: #00d7ff\">None</span>, <span style=\"color: #00af00; text-decoration-color: #00af00\">8</span>, <span style=\"color: #00af00; text-decoration-color: #00af00\">8</span>, <span style=\"color: #00af00; text-decoration-color: #00af00\">128</span>)      │             <span style=\"color: #00af00; text-decoration-color: #00af00\">0</span> │\n",
              "├─────────────────────────────────┼────────────────────────┼───────────────┤\n",
              "│ conv2d_36 (<span style=\"color: #0087ff; text-decoration-color: #0087ff\">Conv2D</span>)              │ (<span style=\"color: #00d7ff; text-decoration-color: #00d7ff\">None</span>, <span style=\"color: #00af00; text-decoration-color: #00af00\">8</span>, <span style=\"color: #00af00; text-decoration-color: #00af00\">8</span>, <span style=\"color: #00af00; text-decoration-color: #00af00\">256</span>)      │       <span style=\"color: #00af00; text-decoration-color: #00af00\">295,168</span> │\n",
              "├─────────────────────────────────┼────────────────────────┼───────────────┤\n",
              "│ conv2d_37 (<span style=\"color: #0087ff; text-decoration-color: #0087ff\">Conv2D</span>)              │ (<span style=\"color: #00d7ff; text-decoration-color: #00d7ff\">None</span>, <span style=\"color: #00af00; text-decoration-color: #00af00\">8</span>, <span style=\"color: #00af00; text-decoration-color: #00af00\">8</span>, <span style=\"color: #00af00; text-decoration-color: #00af00\">1</span>)        │         <span style=\"color: #00af00; text-decoration-color: #00af00\">2,305</span> │\n",
              "├─────────────────────────────────┼────────────────────────┼───────────────┤\n",
              "│ conv2d_38 (<span style=\"color: #0087ff; text-decoration-color: #0087ff\">Conv2D</span>)              │ (<span style=\"color: #00d7ff; text-decoration-color: #00d7ff\">None</span>, <span style=\"color: #00af00; text-decoration-color: #00af00\">8</span>, <span style=\"color: #00af00; text-decoration-color: #00af00\">8</span>, <span style=\"color: #00af00; text-decoration-color: #00af00\">128</span>)      │         <span style=\"color: #00af00; text-decoration-color: #00af00\">1,280</span> │\n",
              "├─────────────────────────────────┼────────────────────────┼───────────────┤\n",
              "│ up_sampling2d_7 (<span style=\"color: #0087ff; text-decoration-color: #0087ff\">UpSampling2D</span>)  │ (<span style=\"color: #00d7ff; text-decoration-color: #00d7ff\">None</span>, <span style=\"color: #00af00; text-decoration-color: #00af00\">16</span>, <span style=\"color: #00af00; text-decoration-color: #00af00\">16</span>, <span style=\"color: #00af00; text-decoration-color: #00af00\">128</span>)    │             <span style=\"color: #00af00; text-decoration-color: #00af00\">0</span> │\n",
              "├─────────────────────────────────┼────────────────────────┼───────────────┤\n",
              "│ conv2d_39 (<span style=\"color: #0087ff; text-decoration-color: #0087ff\">Conv2D</span>)              │ (<span style=\"color: #00d7ff; text-decoration-color: #00d7ff\">None</span>, <span style=\"color: #00af00; text-decoration-color: #00af00\">16</span>, <span style=\"color: #00af00; text-decoration-color: #00af00\">16</span>, <span style=\"color: #00af00; text-decoration-color: #00af00\">64</span>)     │        <span style=\"color: #00af00; text-decoration-color: #00af00\">73,792</span> │\n",
              "├─────────────────────────────────┼────────────────────────┼───────────────┤\n",
              "│ up_sampling2d_8 (<span style=\"color: #0087ff; text-decoration-color: #0087ff\">UpSampling2D</span>)  │ (<span style=\"color: #00d7ff; text-decoration-color: #00d7ff\">None</span>, <span style=\"color: #00af00; text-decoration-color: #00af00\">32</span>, <span style=\"color: #00af00; text-decoration-color: #00af00\">32</span>, <span style=\"color: #00af00; text-decoration-color: #00af00\">64</span>)     │             <span style=\"color: #00af00; text-decoration-color: #00af00\">0</span> │\n",
              "├─────────────────────────────────┼────────────────────────┼───────────────┤\n",
              "│ conv2d_40 (<span style=\"color: #0087ff; text-decoration-color: #0087ff\">Conv2D</span>)              │ (<span style=\"color: #00d7ff; text-decoration-color: #00d7ff\">None</span>, <span style=\"color: #00af00; text-decoration-color: #00af00\">32</span>, <span style=\"color: #00af00; text-decoration-color: #00af00\">32</span>, <span style=\"color: #00af00; text-decoration-color: #00af00\">3</span>)      │         <span style=\"color: #00af00; text-decoration-color: #00af00\">1,731</span> │\n",
              "└─────────────────────────────────┴────────────────────────┴───────────────┘\n",
              "</pre>\n"
            ],
            "text/plain": [
              "┏━━━━━━━━━━━━━━━━━━━━━━━━━━━━━━━━━┳━━━━━━━━━━━━━━━━━━━━━━━━┳━━━━━━━━━━━━━━━┓\n",
              "┃\u001b[1m \u001b[0m\u001b[1mLayer (type)                   \u001b[0m\u001b[1m \u001b[0m┃\u001b[1m \u001b[0m\u001b[1mOutput Shape          \u001b[0m\u001b[1m \u001b[0m┃\u001b[1m \u001b[0m\u001b[1m      Param #\u001b[0m\u001b[1m \u001b[0m┃\n",
              "┡━━━━━━━━━━━━━━━━━━━━━━━━━━━━━━━━━╇━━━━━━━━━━━━━━━━━━━━━━━━╇━━━━━━━━━━━━━━━┩\n",
              "│ conv2d_34 (\u001b[38;5;33mConv2D\u001b[0m)              │ (\u001b[38;5;45mNone\u001b[0m, \u001b[38;5;34m32\u001b[0m, \u001b[38;5;34m32\u001b[0m, \u001b[38;5;34m64\u001b[0m)     │         \u001b[38;5;34m1,792\u001b[0m │\n",
              "├─────────────────────────────────┼────────────────────────┼───────────────┤\n",
              "│ max_pooling2d_5 (\u001b[38;5;33mMaxPooling2D\u001b[0m)  │ (\u001b[38;5;45mNone\u001b[0m, \u001b[38;5;34m16\u001b[0m, \u001b[38;5;34m16\u001b[0m, \u001b[38;5;34m64\u001b[0m)     │             \u001b[38;5;34m0\u001b[0m │\n",
              "├─────────────────────────────────┼────────────────────────┼───────────────┤\n",
              "│ conv2d_35 (\u001b[38;5;33mConv2D\u001b[0m)              │ (\u001b[38;5;45mNone\u001b[0m, \u001b[38;5;34m16\u001b[0m, \u001b[38;5;34m16\u001b[0m, \u001b[38;5;34m128\u001b[0m)    │        \u001b[38;5;34m73,856\u001b[0m │\n",
              "├─────────────────────────────────┼────────────────────────┼───────────────┤\n",
              "│ max_pooling2d_6 (\u001b[38;5;33mMaxPooling2D\u001b[0m)  │ (\u001b[38;5;45mNone\u001b[0m, \u001b[38;5;34m8\u001b[0m, \u001b[38;5;34m8\u001b[0m, \u001b[38;5;34m128\u001b[0m)      │             \u001b[38;5;34m0\u001b[0m │\n",
              "├─────────────────────────────────┼────────────────────────┼───────────────┤\n",
              "│ conv2d_36 (\u001b[38;5;33mConv2D\u001b[0m)              │ (\u001b[38;5;45mNone\u001b[0m, \u001b[38;5;34m8\u001b[0m, \u001b[38;5;34m8\u001b[0m, \u001b[38;5;34m256\u001b[0m)      │       \u001b[38;5;34m295,168\u001b[0m │\n",
              "├─────────────────────────────────┼────────────────────────┼───────────────┤\n",
              "│ conv2d_37 (\u001b[38;5;33mConv2D\u001b[0m)              │ (\u001b[38;5;45mNone\u001b[0m, \u001b[38;5;34m8\u001b[0m, \u001b[38;5;34m8\u001b[0m, \u001b[38;5;34m1\u001b[0m)        │         \u001b[38;5;34m2,305\u001b[0m │\n",
              "├─────────────────────────────────┼────────────────────────┼───────────────┤\n",
              "│ conv2d_38 (\u001b[38;5;33mConv2D\u001b[0m)              │ (\u001b[38;5;45mNone\u001b[0m, \u001b[38;5;34m8\u001b[0m, \u001b[38;5;34m8\u001b[0m, \u001b[38;5;34m128\u001b[0m)      │         \u001b[38;5;34m1,280\u001b[0m │\n",
              "├─────────────────────────────────┼────────────────────────┼───────────────┤\n",
              "│ up_sampling2d_7 (\u001b[38;5;33mUpSampling2D\u001b[0m)  │ (\u001b[38;5;45mNone\u001b[0m, \u001b[38;5;34m16\u001b[0m, \u001b[38;5;34m16\u001b[0m, \u001b[38;5;34m128\u001b[0m)    │             \u001b[38;5;34m0\u001b[0m │\n",
              "├─────────────────────────────────┼────────────────────────┼───────────────┤\n",
              "│ conv2d_39 (\u001b[38;5;33mConv2D\u001b[0m)              │ (\u001b[38;5;45mNone\u001b[0m, \u001b[38;5;34m16\u001b[0m, \u001b[38;5;34m16\u001b[0m, \u001b[38;5;34m64\u001b[0m)     │        \u001b[38;5;34m73,792\u001b[0m │\n",
              "├─────────────────────────────────┼────────────────────────┼───────────────┤\n",
              "│ up_sampling2d_8 (\u001b[38;5;33mUpSampling2D\u001b[0m)  │ (\u001b[38;5;45mNone\u001b[0m, \u001b[38;5;34m32\u001b[0m, \u001b[38;5;34m32\u001b[0m, \u001b[38;5;34m64\u001b[0m)     │             \u001b[38;5;34m0\u001b[0m │\n",
              "├─────────────────────────────────┼────────────────────────┼───────────────┤\n",
              "│ conv2d_40 (\u001b[38;5;33mConv2D\u001b[0m)              │ (\u001b[38;5;45mNone\u001b[0m, \u001b[38;5;34m32\u001b[0m, \u001b[38;5;34m32\u001b[0m, \u001b[38;5;34m3\u001b[0m)      │         \u001b[38;5;34m1,731\u001b[0m │\n",
              "└─────────────────────────────────┴────────────────────────┴───────────────┘\n"
            ]
          },
          "metadata": {},
          "output_type": "display_data"
        },
        {
          "data": {
            "text/html": [
              "<pre style=\"white-space:pre;overflow-x:auto;line-height:normal;font-family:Menlo,'DejaVu Sans Mono',consolas,'Courier New',monospace\"><span style=\"font-weight: bold\"> Total params: </span><span style=\"color: #00af00; text-decoration-color: #00af00\">449,924</span> (1.72 MB)\n",
              "</pre>\n"
            ],
            "text/plain": [
              "\u001b[1m Total params: \u001b[0m\u001b[38;5;34m449,924\u001b[0m (1.72 MB)\n"
            ]
          },
          "metadata": {},
          "output_type": "display_data"
        },
        {
          "data": {
            "text/html": [
              "<pre style=\"white-space:pre;overflow-x:auto;line-height:normal;font-family:Menlo,'DejaVu Sans Mono',consolas,'Courier New',monospace\"><span style=\"font-weight: bold\"> Trainable params: </span><span style=\"color: #00af00; text-decoration-color: #00af00\">449,924</span> (1.72 MB)\n",
              "</pre>\n"
            ],
            "text/plain": [
              "\u001b[1m Trainable params: \u001b[0m\u001b[38;5;34m449,924\u001b[0m (1.72 MB)\n"
            ]
          },
          "metadata": {},
          "output_type": "display_data"
        },
        {
          "data": {
            "text/html": [
              "<pre style=\"white-space:pre;overflow-x:auto;line-height:normal;font-family:Menlo,'DejaVu Sans Mono',consolas,'Courier New',monospace\"><span style=\"font-weight: bold\"> Non-trainable params: </span><span style=\"color: #00af00; text-decoration-color: #00af00\">0</span> (0.00 B)\n",
              "</pre>\n"
            ],
            "text/plain": [
              "\u001b[1m Non-trainable params: \u001b[0m\u001b[38;5;34m0\u001b[0m (0.00 B)\n"
            ]
          },
          "metadata": {},
          "output_type": "display_data"
        }
      ],
      "source": [
        "# suggested layers to use. feel free to add or remove as you see fit.\n",
        "from keras.layers import Conv2D, UpSampling2D, BatchNormalization, MaxPooling2D\n",
        "\n",
        "# use the Sequential API (you can remove if you want to use the Functional API)\n",
        "model = Sequential()\n",
        "\n",
        "### START CODE HERE ###\n",
        "# use `model.add()` to add layers to your autoencoder (if using the Sequential API)\n",
        "model.add(tf.keras.Input(shape=(32,32,3)))\n",
        "\n",
        "# encoder\n",
        "model.add(\n",
        "    Conv2D(filters=64, kernel_size=(3, 3), activation=\"relu\", padding=\"same\")\n",
        ")\n",
        "model.add(MaxPooling2D(pool_size=(2, 2)))\n",
        "model.add(\n",
        "  Conv2D(filters=128, kernel_size=(3, 3), activation=\"relu\", padding=\"same\")\n",
        ")\n",
        "model.add(MaxPooling2D(pool_size=(2,2)))\n",
        "# bottleneck\n",
        "model.add(Conv2D(filters=256, kernel_size=(3,3), activation='relu', padding='same'))\n",
        "model.add(Conv2D(filters=1, kernel_size=(3,3), activation='sigmoid', padding='same'))\n",
        "\n",
        "# decoder\n",
        "model.add(Conv2D(filters=128, kernel_size=(3,3), activation='relu', padding='same'))\n",
        "model.add(UpSampling2D(size=(2,2)))\n",
        "model.add(Conv2D(filters=64, kernel_size=(3, 3), activation=\"relu\", padding=\"same\"))\n",
        "model.add(UpSampling2D(size=(2, 2)))\n",
        "model.add(Conv2D(filters=3, kernel_size=(3,3), activation='sigmoid', padding='same'))\n",
        "### END CODE HERE ###\n",
        "\n",
        "model.summary()"
      ]
    },
    {
      "cell_type": "markdown",
      "metadata": {
        "id": "jRWTAijKEVUC"
      },
      "source": [
        "## Configure training parameters\n",
        "\n",
        "We have already provided the optimizer, metrics, and loss in the code below."
      ]
    },
    {
      "cell_type": "code",
      "execution_count": 17,
      "metadata": {
        "id": "iHIeD9eDETSk"
      },
      "outputs": [],
      "source": [
        "# Please do not change the model.compile() parameters\n",
        "model.compile(optimizer='adam', metrics=['accuracy'], loss='mean_squared_error')"
      ]
    },
    {
      "cell_type": "markdown",
      "metadata": {
        "id": "tLQPhm1W_8dC"
      },
      "source": [
        "## Training\n",
        "\n",
        "You can now use [model.fit()](https://keras.io/api/models/model_training_apis/#fit-method) to train your model. You will pass in the `train_dataset` and you are free to configure the other parameters. As with any training, you should observe the loss generally going down and the accuracy going up at each epoch. If not, please revisit the previous sections to find possible bugs.\n",
        "\n",
        "*Note: If you get a `dataset length is infinite` error. Please check how you defined `train_dataset`. You might have included a [method that repeats the dataset indefinitely](https://www.tensorflow.org/api_docs/python/tf/data/Dataset#repeat).*"
      ]
    },
    {
      "cell_type": "code",
      "execution_count": 18,
      "metadata": {
        "id": "AMBimOnsRvg0"
      },
      "outputs": [
        {
          "name": "stdout",
          "output_type": "stream",
          "text": [
            "Epoch 1/40\n",
            "\u001b[1m391/468\u001b[0m \u001b[32m━━━━━━━━━━━━━━━━\u001b[0m\u001b[37m━━━━\u001b[0m \u001b[1m0s\u001b[0m 11ms/step - accuracy: 0.4451 - loss: 0.0267"
          ]
        },
        {
          "name": "stderr",
          "output_type": "stream",
          "text": [
            "/home/mcc/.local/lib/python3.12/site-packages/keras/src/trainers/epoch_iterator.py:107: UserWarning: Your input ran out of data; interrupting training. Make sure that your dataset or generator can generate at least `steps_per_epoch * epochs` batches. You may need to use the `.repeat()` function when building your dataset.\n",
            "  self._interrupted_warning()\n"
          ]
        },
        {
          "name": "stdout",
          "output_type": "stream",
          "text": [
            "\u001b[1m468/468\u001b[0m \u001b[32m━━━━━━━━━━━━━━━━━━━━\u001b[0m\u001b[37m\u001b[0m \u001b[1m8s\u001b[0m 11ms/step - accuracy: 0.4458 - loss: 0.0252 - val_accuracy: 0.4496 - val_loss: 0.0129\n",
            "Epoch 2/40\n",
            "\u001b[1m468/468\u001b[0m \u001b[32m━━━━━━━━━━━━━━━━━━━━\u001b[0m\u001b[37m\u001b[0m \u001b[1m3s\u001b[0m 6ms/step - accuracy: 0.4598 - loss: 0.0128 - val_accuracy: 0.4839 - val_loss: 0.0126\n",
            "Epoch 3/40\n",
            "\u001b[1m468/468\u001b[0m \u001b[32m━━━━━━━━━━━━━━━━━━━━\u001b[0m\u001b[37m\u001b[0m \u001b[1m3s\u001b[0m 6ms/step - accuracy: 0.4693 - loss: 0.0125 - val_accuracy: 0.4646 - val_loss: 0.0123\n",
            "Epoch 4/40\n",
            "\u001b[1m468/468\u001b[0m \u001b[32m━━━━━━━━━━━━━━━━━━━━\u001b[0m\u001b[37m\u001b[0m \u001b[1m3s\u001b[0m 6ms/step - accuracy: 0.4740 - loss: 0.0123 - val_accuracy: 0.4366 - val_loss: 0.0121\n",
            "Epoch 5/40\n",
            "\u001b[1m468/468\u001b[0m \u001b[32m━━━━━━━━━━━━━━━━━━━━\u001b[0m\u001b[37m\u001b[0m \u001b[1m3s\u001b[0m 6ms/step - accuracy: 0.4916 - loss: 0.0120 - val_accuracy: 0.5333 - val_loss: 0.0115\n",
            "Epoch 6/40\n",
            "\u001b[1m468/468\u001b[0m \u001b[32m━━━━━━━━━━━━━━━━━━━━\u001b[0m\u001b[37m\u001b[0m \u001b[1m3s\u001b[0m 6ms/step - accuracy: 0.5440 - loss: 0.0115 - val_accuracy: 0.5680 - val_loss: 0.0111\n",
            "Epoch 7/40\n",
            "\u001b[1m468/468\u001b[0m \u001b[32m━━━━━━━━━━━━━━━━━━━━\u001b[0m\u001b[37m\u001b[0m \u001b[1m3s\u001b[0m 6ms/step - accuracy: 0.5662 - loss: 0.0111 - val_accuracy: 0.5753 - val_loss: 0.0108\n",
            "Epoch 8/40\n",
            "\u001b[1m468/468\u001b[0m \u001b[32m━━━━━━━━━━━━━━━━━━━━\u001b[0m\u001b[37m\u001b[0m \u001b[1m3s\u001b[0m 6ms/step - accuracy: 0.5754 - loss: 0.0109 - val_accuracy: 0.5910 - val_loss: 0.0107\n",
            "Epoch 9/40\n",
            "\u001b[1m468/468\u001b[0m \u001b[32m━━━━━━━━━━━━━━━━━━━━\u001b[0m\u001b[37m\u001b[0m \u001b[1m3s\u001b[0m 6ms/step - accuracy: 0.5820 - loss: 0.0107 - val_accuracy: 0.5863 - val_loss: 0.0107\n",
            "Epoch 10/40\n",
            "\u001b[1m468/468\u001b[0m \u001b[32m━━━━━━━━━━━━━━━━━━━━\u001b[0m\u001b[37m\u001b[0m \u001b[1m3s\u001b[0m 6ms/step - accuracy: 0.5866 - loss: 0.0106 - val_accuracy: 0.5864 - val_loss: 0.0104\n",
            "Epoch 11/40\n",
            "\u001b[1m468/468\u001b[0m \u001b[32m━━━━━━━━━━━━━━━━━━━━\u001b[0m\u001b[37m\u001b[0m \u001b[1m3s\u001b[0m 6ms/step - accuracy: 0.5887 - loss: 0.0104 - val_accuracy: 0.5899 - val_loss: 0.0103\n",
            "Epoch 12/40\n",
            "\u001b[1m468/468\u001b[0m \u001b[32m━━━━━━━━━━━━━━━━━━━━\u001b[0m\u001b[37m\u001b[0m \u001b[1m3s\u001b[0m 6ms/step - accuracy: 0.5930 - loss: 0.0103 - val_accuracy: 0.6071 - val_loss: 0.0101\n",
            "Epoch 13/40\n",
            "\u001b[1m468/468\u001b[0m \u001b[32m━━━━━━━━━━━━━━━━━━━━\u001b[0m\u001b[37m\u001b[0m \u001b[1m3s\u001b[0m 6ms/step - accuracy: 0.5965 - loss: 0.0102 - val_accuracy: 0.6112 - val_loss: 0.0101\n",
            "Epoch 14/40\n",
            "\u001b[1m468/468\u001b[0m \u001b[32m━━━━━━━━━━━━━━━━━━━━\u001b[0m\u001b[37m\u001b[0m \u001b[1m3s\u001b[0m 6ms/step - accuracy: 0.5994 - loss: 0.0101 - val_accuracy: 0.6060 - val_loss: 0.0101\n",
            "Epoch 15/40\n",
            "\u001b[1m468/468\u001b[0m \u001b[32m━━━━━━━━━━━━━━━━━━━━\u001b[0m\u001b[37m\u001b[0m \u001b[1m3s\u001b[0m 6ms/step - accuracy: 0.6025 - loss: 0.0100 - val_accuracy: 0.6121 - val_loss: 0.0100\n",
            "Epoch 16/40\n",
            "\u001b[1m468/468\u001b[0m \u001b[32m━━━━━━━━━━━━━━━━━━━━\u001b[0m\u001b[37m\u001b[0m \u001b[1m3s\u001b[0m 7ms/step - accuracy: 0.6041 - loss: 0.0099 - val_accuracy: 0.6138 - val_loss: 0.0098\n",
            "Epoch 17/40\n",
            "\u001b[1m468/468\u001b[0m \u001b[32m━━━━━━━━━━━━━━━━━━━━\u001b[0m\u001b[37m\u001b[0m \u001b[1m3s\u001b[0m 6ms/step - accuracy: 0.6074 - loss: 0.0098 - val_accuracy: 0.6063 - val_loss: 0.0098\n",
            "Epoch 18/40\n",
            "\u001b[1m468/468\u001b[0m \u001b[32m━━━━━━━━━━━━━━━━━━━━\u001b[0m\u001b[37m\u001b[0m \u001b[1m3s\u001b[0m 6ms/step - accuracy: 0.6093 - loss: 0.0098 - val_accuracy: 0.6116 - val_loss: 0.0097\n",
            "Epoch 19/40\n",
            "\u001b[1m468/468\u001b[0m \u001b[32m━━━━━━━━━━━━━━━━━━━━\u001b[0m\u001b[37m\u001b[0m \u001b[1m3s\u001b[0m 6ms/step - accuracy: 0.6107 - loss: 0.0097 - val_accuracy: 0.6084 - val_loss: 0.0097\n",
            "Epoch 20/40\n",
            "\u001b[1m468/468\u001b[0m \u001b[32m━━━━━━━━━━━━━━━━━━━━\u001b[0m\u001b[37m\u001b[0m \u001b[1m3s\u001b[0m 6ms/step - accuracy: 0.6120 - loss: 0.0096 - val_accuracy: 0.6148 - val_loss: 0.0097\n",
            "Epoch 21/40\n",
            "\u001b[1m468/468\u001b[0m \u001b[32m━━━━━━━━━━━━━━━━━━━━\u001b[0m\u001b[37m\u001b[0m \u001b[1m3s\u001b[0m 6ms/step - accuracy: 0.6140 - loss: 0.0096 - val_accuracy: 0.6301 - val_loss: 0.0095\n",
            "Epoch 22/40\n",
            "\u001b[1m468/468\u001b[0m \u001b[32m━━━━━━━━━━━━━━━━━━━━\u001b[0m\u001b[37m\u001b[0m \u001b[1m3s\u001b[0m 6ms/step - accuracy: 0.6164 - loss: 0.0095 - val_accuracy: 0.6092 - val_loss: 0.0100\n",
            "Epoch 23/40\n",
            "\u001b[1m468/468\u001b[0m \u001b[32m━━━━━━━━━━━━━━━━━━━━\u001b[0m\u001b[37m\u001b[0m \u001b[1m3s\u001b[0m 6ms/step - accuracy: 0.6171 - loss: 0.0095 - val_accuracy: 0.6153 - val_loss: 0.0095\n",
            "Epoch 24/40\n",
            "\u001b[1m468/468\u001b[0m \u001b[32m━━━━━━━━━━━━━━━━━━━━\u001b[0m\u001b[37m\u001b[0m \u001b[1m3s\u001b[0m 6ms/step - accuracy: 0.6185 - loss: 0.0094 - val_accuracy: 0.6176 - val_loss: 0.0094\n",
            "Epoch 25/40\n",
            "\u001b[1m468/468\u001b[0m \u001b[32m━━━━━━━━━━━━━━━━━━━━\u001b[0m\u001b[37m\u001b[0m \u001b[1m3s\u001b[0m 6ms/step - accuracy: 0.6216 - loss: 0.0094 - val_accuracy: 0.6246 - val_loss: 0.0094\n",
            "Epoch 26/40\n",
            "\u001b[1m468/468\u001b[0m \u001b[32m━━━━━━━━━━━━━━━━━━━━\u001b[0m\u001b[37m\u001b[0m \u001b[1m3s\u001b[0m 6ms/step - accuracy: 0.6246 - loss: 0.0093 - val_accuracy: 0.6261 - val_loss: 0.0093\n",
            "Epoch 27/40\n",
            "\u001b[1m468/468\u001b[0m \u001b[32m━━━━━━━━━━━━━━━━━━━━\u001b[0m\u001b[37m\u001b[0m \u001b[1m3s\u001b[0m 6ms/step - accuracy: 0.6268 - loss: 0.0093 - val_accuracy: 0.6305 - val_loss: 0.0095\n",
            "Epoch 28/40\n",
            "\u001b[1m468/468\u001b[0m \u001b[32m━━━━━━━━━━━━━━━━━━━━\u001b[0m\u001b[37m\u001b[0m \u001b[1m3s\u001b[0m 6ms/step - accuracy: 0.6285 - loss: 0.0093 - val_accuracy: 0.6296 - val_loss: 0.0093\n",
            "Epoch 29/40\n",
            "\u001b[1m468/468\u001b[0m \u001b[32m━━━━━━━━━━━━━━━━━━━━\u001b[0m\u001b[37m\u001b[0m \u001b[1m3s\u001b[0m 6ms/step - accuracy: 0.6307 - loss: 0.0092 - val_accuracy: 0.6170 - val_loss: 0.0093\n",
            "Epoch 30/40\n",
            "\u001b[1m468/468\u001b[0m \u001b[32m━━━━━━━━━━━━━━━━━━━━\u001b[0m\u001b[37m\u001b[0m \u001b[1m3s\u001b[0m 6ms/step - accuracy: 0.6317 - loss: 0.0092 - val_accuracy: 0.6261 - val_loss: 0.0092\n",
            "Epoch 31/40\n",
            "\u001b[1m468/468\u001b[0m \u001b[32m━━━━━━━━━━━━━━━━━━━━\u001b[0m\u001b[37m\u001b[0m \u001b[1m3s\u001b[0m 6ms/step - accuracy: 0.6340 - loss: 0.0092 - val_accuracy: 0.6352 - val_loss: 0.0092\n",
            "Epoch 32/40\n",
            "\u001b[1m468/468\u001b[0m \u001b[32m━━━━━━━━━━━━━━━━━━━━\u001b[0m\u001b[37m\u001b[0m \u001b[1m3s\u001b[0m 6ms/step - accuracy: 0.6349 - loss: 0.0092 - val_accuracy: 0.6306 - val_loss: 0.0092\n",
            "Epoch 33/40\n",
            "\u001b[1m468/468\u001b[0m \u001b[32m━━━━━━━━━━━━━━━━━━━━\u001b[0m\u001b[37m\u001b[0m \u001b[1m3s\u001b[0m 6ms/step - accuracy: 0.6363 - loss: 0.0091 - val_accuracy: 0.6190 - val_loss: 0.0092\n",
            "Epoch 34/40\n",
            "\u001b[1m468/468\u001b[0m \u001b[32m━━━━━━━━━━━━━━━━━━━━\u001b[0m\u001b[37m\u001b[0m \u001b[1m3s\u001b[0m 7ms/step - accuracy: 0.6368 - loss: 0.0091 - val_accuracy: 0.6301 - val_loss: 0.0092\n",
            "Epoch 35/40\n",
            "\u001b[1m468/468\u001b[0m \u001b[32m━━━━━━━━━━━━━━━━━━━━\u001b[0m\u001b[37m\u001b[0m \u001b[1m3s\u001b[0m 6ms/step - accuracy: 0.6358 - loss: 0.0091 - val_accuracy: 0.6192 - val_loss: 0.0092\n",
            "Epoch 36/40\n",
            "\u001b[1m468/468\u001b[0m \u001b[32m━━━━━━━━━━━━━━━━━━━━\u001b[0m\u001b[37m\u001b[0m \u001b[1m3s\u001b[0m 6ms/step - accuracy: 0.6378 - loss: 0.0091 - val_accuracy: 0.6216 - val_loss: 0.0091\n",
            "Epoch 37/40\n",
            "\u001b[1m468/468\u001b[0m \u001b[32m━━━━━━━━━━━━━━━━━━━━\u001b[0m\u001b[37m\u001b[0m \u001b[1m3s\u001b[0m 6ms/step - accuracy: 0.6379 - loss: 0.0091 - val_accuracy: 0.6306 - val_loss: 0.0092\n",
            "Epoch 38/40\n",
            "\u001b[1m468/468\u001b[0m \u001b[32m━━━━━━━━━━━━━━━━━━━━\u001b[0m\u001b[37m\u001b[0m \u001b[1m3s\u001b[0m 6ms/step - accuracy: 0.6383 - loss: 0.0090 - val_accuracy: 0.6380 - val_loss: 0.0091\n",
            "Epoch 39/40\n",
            "\u001b[1m468/468\u001b[0m \u001b[32m━━━━━━━━━━━━━━━━━━━━\u001b[0m\u001b[37m\u001b[0m \u001b[1m3s\u001b[0m 7ms/step - accuracy: 0.6387 - loss: 0.0090 - val_accuracy: 0.6381 - val_loss: 0.0091\n",
            "Epoch 40/40\n",
            "\u001b[1m468/468\u001b[0m \u001b[32m━━━━━━━━━━━━━━━━━━━━\u001b[0m\u001b[37m\u001b[0m \u001b[1m3s\u001b[0m 7ms/step - accuracy: 0.6392 - loss: 0.0090 - val_accuracy: 0.6287 - val_loss: 0.0091\n"
          ]
        },
        {
          "data": {
            "text/plain": [
              "<keras.src.callbacks.history.History at 0x7f3f2c175970>"
            ]
          },
          "execution_count": 18,
          "metadata": {},
          "output_type": "execute_result"
        }
      ],
      "source": [
        "### START CODE HERE ###\n",
        "\n",
        "train_steps = 60000 // BATCH_SIZE\n",
        "valid_steps = 60000 // BATCH_SIZE\n",
        "EPOCHS = 30\n",
        "\n",
        "model.fit(\n",
        "    train_dataset,\n",
        "    steps_per_epoch=train_steps,\n",
        "    validation_data=test_dataset,\n",
        "    validation_steps=valid_steps,\n",
        "    epochs=40,\n",
        ")\n",
        "### END CODE HERE ###"
      ]
    },
    {
      "cell_type": "markdown",
      "metadata": {
        "id": "PT2l1c-SAaF4"
      },
      "source": [
        "## Model evaluation\n",
        "\n",
        "You can use this code to test your model locally before uploading to the grader. To pass, your model needs to satisfy these two requirements:\n",
        "\n",
        "* loss must be less than 0.01\n",
        "* accuracy must be greater than 0.6"
      ]
    },
    {
      "cell_type": "code",
      "execution_count": 12,
      "metadata": {
        "id": "vFncgqahSQhA"
      },
      "outputs": [
        {
          "name": "stdout",
          "output_type": "stream",
          "text": [
            "\u001b[1m10/10\u001b[0m \u001b[32m━━━━━━━━━━━━━━━━━━━━\u001b[0m\u001b[37m\u001b[0m \u001b[1m0s\u001b[0m 4ms/step - accuracy: 0.6495 - loss: 0.0041 \n"
          ]
        }
      ],
      "source": [
        "result = model.evaluate(test_dataset, steps=10)"
      ]
    },
    {
      "cell_type": "markdown",
      "metadata": {
        "id": "0W-Fm-D9w5mQ"
      },
      "source": [
        "If you did some visualization like in the ungraded labs, then you might see something like the gallery below. This part is not required."
      ]
    },
    {
      "cell_type": "markdown",
      "metadata": {
        "id": "1A_fMO4kw5mQ"
      },
      "source": [
        "<img src=\"https://storage.googleapis.com/tensorflow-3-public/assets/images/autoencoder.png\" width=\"75%\" height=\"75%\"/>"
      ]
    },
    {
      "cell_type": "markdown",
      "metadata": {
        "id": "uaRSkQPNAPT0"
      },
      "source": [
        "## Save the Model\n",
        "\n",
        "Once you're satisfied with the results, you can save your model and upload it to the grader in Coursera. Please run all succeeding cells to ensure that you will have a gradable submission. Otherwise, you might get this error message:\n",
        "\n",
        "`There was a problem grading your submission. Check stderr for more details.`\n",
        "\n",
        "First, save the model file in your Colab workspace."
      ]
    },
    {
      "cell_type": "code",
      "execution_count": 13,
      "metadata": {
        "id": "pLFpLP-c7rDR"
      },
      "outputs": [],
      "source": [
        "# Save the model you just trained\n",
        "model.save(\"mymodel.keras\")"
      ]
    },
    {
      "cell_type": "code",
      "execution_count": 14,
      "metadata": {
        "id": "NCd50-pubX_o"
      },
      "outputs": [
        {
          "ename": "ModuleNotFoundError",
          "evalue": "No module named 'google.colab'",
          "output_type": "error",
          "traceback": [
            "\u001b[0;31m---------------------------------------------------------------------------\u001b[0m",
            "\u001b[0;31mModuleNotFoundError\u001b[0m                       Traceback (most recent call last)",
            "Cell \u001b[0;32mIn[14], line 2\u001b[0m\n\u001b[1;32m      1\u001b[0m \u001b[38;5;66;03m# You can also use this cell as a shortcut for downloading your model\u001b[39;00m\n\u001b[0;32m----> 2\u001b[0m \u001b[38;5;28;01mfrom\u001b[39;00m \u001b[38;5;21;01mgoogle\u001b[39;00m\u001b[38;5;21;01m.\u001b[39;00m\u001b[38;5;21;01mcolab\u001b[39;00m \u001b[38;5;28;01mimport\u001b[39;00m files\n\u001b[1;32m      3\u001b[0m files\u001b[38;5;241m.\u001b[39mdownload(\u001b[38;5;124m\"\u001b[39m\u001b[38;5;124mmymodel.keras\u001b[39m\u001b[38;5;124m\"\u001b[39m)\n",
            "\u001b[0;31mModuleNotFoundError\u001b[0m: No module named 'google.colab'"
          ]
        }
      ],
      "source": [
        "# You can also use this cell as a shortcut for downloading your model\n",
        "from google.colab import files\n",
        "files.download(\"mymodel.keras\")"
      ]
    },
    {
      "cell_type": "markdown",
      "metadata": {
        "id": "QArMiXJTDxDe"
      },
      "source": [
        "**Congratulations on completing this week's assignment!**"
      ]
    },
    {
      "cell_type": "markdown",
      "metadata": {},
      "source": []
    }
  ],
  "metadata": {
    "accelerator": "GPU",
    "colab": {
      "provenance": []
    },
    "kernelspec": {
      "display_name": "Python 3",
      "language": "python",
      "name": "python3"
    },
    "language_info": {
      "codemirror_mode": {
        "name": "ipython",
        "version": 3
      },
      "file_extension": ".py",
      "mimetype": "text/x-python",
      "name": "python",
      "nbconvert_exporter": "python",
      "pygments_lexer": "ipython3",
      "version": "3.12.5"
    }
  },
  "nbformat": 4,
  "nbformat_minor": 0
}
